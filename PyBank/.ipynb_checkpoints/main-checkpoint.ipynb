{
 "cells": [
  {
   "cell_type": "code",
   "execution_count": 1,
   "metadata": {},
   "outputs": [],
   "source": [
    "# import the pathlib and csv library \n",
    "from pathlib import Path \n",
    "import csv\n"
   ]
  },
  {
   "cell_type": "code",
   "execution_count": 2,
   "metadata": {},
   "outputs": [],
   "source": [
    "# set the file path C:\\Users\\wazar\\Downloads\n",
    "\n",
    "csvpath = Path('pybank.csv')"
   ]
  },
  {
   "cell_type": "code",
   "execution_count": 27,
   "metadata": {},
   "outputs": [],
   "source": [
    "# initialize list of records \n",
    "records = []\n",
    "\n"
   ]
  },
  {
   "cell_type": "code",
   "execution_count": 31,
   "metadata": {},
   "outputs": [
    {
     "name": "stdout",
     "output_type": "stream",
     "text": [
      "\n",
      "Financial Analysis\n",
      "----------------------------\n",
      "Total Months: 86\n",
      "Total: $38382578\n",
      "Average  Change: $-2315.12 \n",
      "Greatest Increase in Profits: Feb-2012 $1926159\n",
      "Greatest Decrease in Profits: Sep-2013 $-2196167\n",
      "\n"
     ]
    }
   ],
   "source": [
    "# open the csv file as an object \n",
    "with open(csvpath, 'r') as csvfile: \n",
    "    \n",
    "    # Pass in the csv file to the csv.reader() function\n",
    "    # with ',' as the delmiter/separator and return the csvreader object \n",
    "    csvreader = csv.reader(csvfile, delimiter=',')\n",
    "    \n",
    "    # Go to the next row from the start of the file\n",
    "    # (which is often the first row/header) and iterate line_num by 1\n",
    "    header = next(csvreader)\n",
    "    # line_num += 1\n",
    "    # Print the header\n",
    "    #print(f\"{header} <---- HEADER\")\n",
    "    \n",
    "    # total number of months\n",
    "   \n",
    "    months = 0\n",
    "\n",
    "    pnl_list = []\n",
    "    \n",
    "    pnllist_diff = []\n",
    "    \n",
    "    #max_increase = 0\n",
    "    #max_decrease = 0\n",
    "    #avgchange = 0 \n",
    "    \n",
    "    \n",
    "    # Read each row of data after the header\n",
    "    for i,row in enumerate(csvreader):\n",
    "        # Print the row\n",
    "        #print(i,row)\n",
    "       \n",
    "        \n",
    "        #months = months + 1 this is the same output at months +=1\n",
    "        months += 1\n",
    "        #month = row[0]\n",
    "        #months = months.append(month)\n",
    "        #print (row[0]) \n",
    "        #print(i,row)\n",
    "        \n",
    "        \n",
    "        pnl = int(row[1])\n",
    "        #print (pnl)\n",
    "        \n",
    "        pnl_list.append(pnl)\n",
    "        if i == 0:\n",
    "            pnllist_diff.append(pnl)\n",
    "            \n",
    "        else: \n",
    "            pnl_diff = pnl-pnl_list[i-1]\n",
    "            #print (pnl_diff)\n",
    "            pnllist_diff.append(pnl_diff)\n",
    "\n",
    "            \n",
    "            \n",
    "            \n",
    "#deleting 1st element from the list because it subtracts the first element from 0.\n",
    "del pnllist_diff[0]\n",
    "\n",
    "\n",
    "   \n",
    "\n",
    "#print (sum(pnllist_diff)/(months-1))\n",
    "#print (pnllist_diff)\n",
    "import statistics\n",
    "#the print below is for the average change in 2 decimal places\n",
    "#print (round(statistics.mean(pnllist_diff),2))\n",
    "\n",
    "#Logic to determine max increase and max decrease \n",
    "increase = max(pnllist_diff)\n",
    "\n",
    "decrease = min(pnllist_diff)\n",
    "\n",
    "\n",
    "\n",
    "report =  f'''\n",
    "Financial Analysis\n",
    "----------------------------\n",
    "Total Months: {months}\n",
    "Total: ${sum(pnl_list)}\n",
    "Average  Change: ${round(statistics.mean(pnllist_diff), 2)} \n",
    "Greatest Increase in Profits: Feb-2012 ${increase}\n",
    "Greatest Decrease in Profits: Sep-2013 ${decrease}\n",
    "'''\n",
    "\n",
    "   \n",
    "print (report)\n",
    "\n",
    "#print (months)"
   ]
  },
  {
   "cell_type": "code",
   "execution_count": null,
   "metadata": {},
   "outputs": [],
   "source": []
  },
  {
   "cell_type": "code",
   "execution_count": null,
   "metadata": {},
   "outputs": [],
   "source": []
  }
 ],
 "metadata": {
  "kernelspec": {
   "display_name": "Python 3",
   "language": "python",
   "name": "python3"
  },
  "language_info": {
   "codemirror_mode": {
    "name": "ipython",
    "version": 3
   },
   "file_extension": ".py",
   "mimetype": "text/x-python",
   "name": "python",
   "nbconvert_exporter": "python",
   "pygments_lexer": "ipython3",
   "version": "3.8.3"
  }
 },
 "nbformat": 4,
 "nbformat_minor": 4
}
